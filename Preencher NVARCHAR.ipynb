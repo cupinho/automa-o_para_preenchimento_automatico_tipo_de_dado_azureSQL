{
 "cells": [
  {
   "cell_type": "code",
   "execution_count": 1,
   "metadata": {},
   "outputs": [],
   "source": [
    "import pyautogui as ptg\n",
    "import time\n",
    "import pyperclip as ppc\n",
    "\n",
    "\n"
   ]
  },
  {
   "cell_type": "code",
   "execution_count": 6,
   "metadata": {},
   "outputs": [],
   "source": [
    "ptg.PAUSE = 0.02\n",
    "\n",
    "#ptg.alert('o programa vai começar. NAO use ND')\n",
    "\n",
    "ptg.keyDown('alt')\n",
    "time.sleep(.1)\n",
    "ptg.press('tab')\n",
    "time.sleep(.1)\n",
    "ptg.keyUp('alt')\n",
    "\n",
    "\n",
    "link = \"nvarchar(MAX)\"\n",
    "\n",
    "ppc.copy(link)\n",
    "#VERIFICAR QUANTIDADE DE COLUNAS DA TABELA\n",
    "x = range(0,230)\n",
    "for i in x:\n",
    "    \n",
    "    ptg.hotkey('ctrl','v')\n",
    "    ptg.press(\"tab\")\n",
    "    ptg.press(\"tab\")\n",
    "    ptg.press(\"tab\")\n",
    "    ptg.press(\"tab\")\n"
   ]
  },
  {
   "cell_type": "code",
   "execution_count": null,
   "metadata": {},
   "outputs": [],
   "source": []
  }
 ],
 "metadata": {
  "kernelspec": {
   "display_name": "Python 3",
   "language": "python",
   "name": "python3"
  },
  "language_info": {
   "codemirror_mode": {
    "name": "ipython",
    "version": 3
   },
   "file_extension": ".py",
   "mimetype": "text/x-python",
   "name": "python",
   "nbconvert_exporter": "python",
   "pygments_lexer": "ipython3",
   "version": "3.8.5"
  }
 },
 "nbformat": 4,
 "nbformat_minor": 4
}
